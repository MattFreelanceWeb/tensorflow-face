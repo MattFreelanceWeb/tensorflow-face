{
 "cells": [
  {
   "cell_type": "markdown",
   "metadata": {},
   "source": [
    "## instalation des dépendances"
   ]
  },
  {
   "cell_type": "code",
   "execution_count": null,
   "metadata": {},
   "outputs": [],
   "source": [
    "pip install tensorflow opencv-python tensorflowjs dlib matplotlib"
   ]
  },
  {
   "cell_type": "code",
   "execution_count": null,
   "metadata": {},
   "outputs": [],
   "source": [
    "import tensorflow as tf\n",
    "print(\"TensorFlow version:\", tf.__version__)"
   ]
  },
  {
   "cell_type": "markdown",
   "metadata": {},
   "source": [
    "## Affichage de chaque points afin de comprendre comment travailler avec le modèle préentrainé shape predictor 68 \n",
    "\n",
    "les points de repère faciaux pour un visage donné. Chaque point de repère est représenté par une paire de coordonnées (x, y).\n",
    "\n",
    "Les points de repère sont numérotés de 0 à 67, et chaque numéro correspond à une partie spécifique du visage. Voici une liste des points de repère pour un visage avec 68 points :\n",
    "\n",
    "Points 0-16 : Mâchoire\n",
    "Points 17-21 : Sourcil droit\n",
    "Points 22-26 : Sourcil gauche\n",
    "Points 27-30 : Partie supérieure du nez\n",
    "Points 31-35 : Partie inférieur du nez\n",
    "Points 36-41 : Œil droit\n",
    "Points 42-47 : Œil gauche\n",
    "Points 48-59 : Bouche extérieure\n",
    "Points 60-67 : Bouche intérieure\n",
    "\n",
    "- vous pouvez en runnant le script ci dessous apercevoir chaque points"
   ]
  },
  {
   "cell_type": "code",
   "execution_count": null,
   "metadata": {},
   "outputs": [],
   "source": [
    "import cv2\n",
    "import dlib\n",
    "import numpy as np\n",
    "\n",
    "# Charger le modèle de détection de visage pré-entraîné\n",
    "face_cascade = cv2.CascadeClassifier(cv2.data.haarcascades + 'haarcascade_frontalface_default.xml')\n",
    "\n",
    "# Charger le modèle de prédiction de points de repère du visage\n",
    "predictor = dlib.shape_predictor(\"shape_predictor_68_face_landmarks.dat\") \n",
    "\n",
    "# Initialiser la webcam\n",
    "cap = cv2.VideoCapture(0)\n",
    "\n",
    "#Initiqliser un point a stocker pour l'utiliser plus tard\n",
    "point_30_coords = 0\n",
    "\n",
    "while True:\n",
    "    # Capture d'une image depuis la webcam\n",
    "    ret, frame = cap.read()\n",
    "\n",
    "    # Convertir l'image en niveaux de gris\n",
    "    gray = cv2.cvtColor(frame, cv2.COLOR_BGR2GRAY)\n",
    "\n",
    "    # Détecter les visages dans l'image\n",
    "    faces = face_cascade.detectMultiScale(gray, scaleFactor=1.3, minNeighbors=5)\n",
    "\n",
    "    for (x, y, w, h) in faces:\n",
    "        # Obtenez les points de repère du visage\n",
    "        rect = dlib.rectangle(int(x), int(y), int(x + w), int(y + h))\n",
    "        landmarks = predictor(gray, rect)\n",
    "\n",
    "        # Convertissez les points de repère en un tableau NumPy\n",
    "        landmarks_np = np.array([[p.x, p.y] for p in landmarks.parts()])\n",
    "\n",
    "        # Stocker les coordonnées du point 30 (nez) dans la variable\n",
    "        point_30_coords = (landmarks_np[30, 0], landmarks_np[30, 1])\n",
    "\n",
    "\n",
    "        # Dessiner le canevas sur l'image\n",
    "        for i in range(landmarks_np.shape[0]):\n",
    "            cv2.circle(frame, (landmarks_np[i, 0], landmarks_np[i, 1]), 3, (0, 255, 0), -1)\n",
    "            cv2.putText(frame, str(i), (landmarks_np[i, 0], landmarks_np[i, 1]), cv2.FONT_HERSHEY_SIMPLEX, 0.3, (0, 255, 0), 1)\n",
    "\n",
    "        # Relier les points entre eux\n",
    "        for i in range(landmarks_np.shape[0] - 1):\n",
    "            cv2.line(frame, (landmarks_np[i, 0], landmarks_np[i, 1]), (landmarks_np[i + 1, 0], landmarks_np[i + 1, 1]), (0, 255, 0), 1)\n",
    "\n",
    "    print(point_30_coords)\n",
    "\n",
    "    # Afficher le résultat\n",
    "    cv2.imshow('Facial Landmarks', frame)\n",
    "\n",
    "    # Quitter la boucle si la touche 'q' est pressée\n",
    "    if cv2.waitKey(1) & 0xFF == ord('q'):\n",
    "        break\n",
    "\n",
    "# Libérer la webcam et fermer la fenêtre\n",
    "cap.release()\n",
    "cv2.destroyAllWindows()\n"
   ]
  }
 ],
 "metadata": {
  "kernelspec": {
   "display_name": "Python 3",
   "language": "python",
   "name": "python3"
  },
  "language_info": {
   "codemirror_mode": {
    "name": "ipython",
    "version": 3
   },
   "file_extension": ".py",
   "mimetype": "text/x-python",
   "name": "python",
   "nbconvert_exporter": "python",
   "pygments_lexer": "ipython3",
   "version": "3.10.12"
  }
 },
 "nbformat": 4,
 "nbformat_minor": 2
}
